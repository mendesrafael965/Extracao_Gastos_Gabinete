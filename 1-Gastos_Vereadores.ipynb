{
 "cells": [
  {
   "cell_type": "code",
   "execution_count": null,
   "metadata": {},
   "outputs": [],
   "source": [
    "import requests\n",
    "import csv\n",
    "import re\n",
    "import json\n",
    "import urllib.request\n",
    "from bs4 import BeautifulSoup\n",
    "import os\n",
    "import glob\n",
    "import pandas as pd"
   ]
  },
  {
   "cell_type": "code",
   "execution_count": null,
   "metadata": {},
   "outputs": [],
   "source": [
    "vano = 2022\n",
    "for vmes in range(5, 13):\n",
    "    ano=str(vano)\n",
    "    mes=\"\"\n",
    "    if vmes<10 :\n",
    "        mes=\"0\"         \n",
    "    mes+=str(vmes)\n",
    "    mesano=mes+ano\n",
    "    anomes=ano+mes\n",
    "    aux =\"https://sisgvarmazenamento.blob.core.windows.net/prd/PublicacaoPortal/Arquivos/\"\n",
    "    aux+=anomes       \n",
    "    aux+=\".htm\"\n",
    "    #Consulte o site e retorne o html para a variável 'page'\n",
    "    page = urllib.request.urlopen(aux)\n",
    "    soup = BeautifulSoup(page, 'html.parser',from_encoding='utf-8')\n",
    "\n",
    "    # Criar um arquivo para gravar, adicionar linha de cabeçalhos\n",
    "    f = csv.writer(open(('Dados'+mesano+'.csv'), 'w'))\n",
    "    f.writerow(['Vereador','Tipo_de_Gasto','Nome_Da_Empresa','CNPJ','Valor','Mes/Ano'])\n",
    "    jsonFilePath=('Dados'+mesano+'.json')\n",
    "    jsondata = [] \n",
    "    \n",
    "    #Regex para remover tags html\n",
    "    TAG_RE = re.compile('<.*?>|&([a-z0-9]+|#[0-9]{1,6}|#x[0-9a-f]{1,6});')\n",
    "    def remove_tags(text):\n",
    "        return TAG_RE.sub('', text)\n",
    "\n",
    "    #Inicialização de variaveis\n",
    "    index=0\n",
    "    start=0\n",
    "    nomeVereador=\"\"\n",
    "    categoriaDespesa=\"\"\n",
    "    cnpj=\"\"\n",
    "    LugarDespesa=\"\"\n",
    "    skip=0\n",
    "    ignore=0\n",
    "    bugduplo=1\n",
    "    #Percorre buscando Tds\n",
    "    name_list = soup.find('body')\n",
    "    name_list2 = soup.find(class_=\"bloco\")\n",
    "    for tr in name_list.find_all('tr'):\n",
    "        if bugduplo==0:\n",
    "            bugduplo=-1\n",
    "            continue\n",
    "        if(tr.find(text=re.compile(\"[\\s\\S]+(Vereador)\\\\((a)\\\\)[:\\s]\",re.I))):\n",
    "            start=1\n",
    "            name_list_itemsp = tr.find_all('td')\n",
    "            for name in name_list_itemsp:\n",
    "                if(name.find(text=re.compile(\"[\\s\\S]+(Vereador)\\\\((a)\\\\)\",re.I))):\n",
    "                    names = str(name.contents[1])\n",
    "                    names=re.sub(\"[\\s\\S]+(Vereador)\\\\((a)\\\\)[:\\s]\",\"\",names)\n",
    "                    names=remove_tags(names)\n",
    "                    nomeVereador=names\n",
    "                    ignore=0\n",
    "                    if bugduplo==1:\n",
    "                        bugduplo=0\n",
    "        if(start!=0):\n",
    "            name_list_itemsv = tr.find_all('td')\n",
    "            for name in name_list_itemsv:                   \n",
    "                names = str(name.contents[0])\n",
    "                if(skip==1):\n",
    "                    skip=0\n",
    "                    continue\n",
    "                if(ignore==1):\n",
    "                    continue\n",
    "                names=remove_tags(names)\n",
    "                names=re.sub(\"(Natureza da despesa)\",\"\",names)\n",
    "                names=re.sub(\"(Valor utilizado)\",\"\",names)                    \n",
    "                names=re.sub(\"(VALORES GASTOS)\",\"\",names)\n",
    "                names=re.sub(\"(VALORES DISPONIBILIZADOS)\",\"\",names)\n",
    "                names=re.sub(\"(TOTAL DO ITEM)\",\"VXASkip\",names)\n",
    "                names=re.sub(\"(TOTAL DO MÊS)\",\"VXBSkip\",names)\n",
    "                names=re.sub(\"(VEREADOR AFASTADO)\",\"VXBSkip\",names)\n",
    "                if re.match(\"\\d{2}.?\\d{3}.?\\d{3}/?\\d{4}-?\\d{2}\", names) is not None:              #RegexCNPJ\n",
    "                    start=2\n",
    "                if re.match(\"[\\s\\S]*(VXASkip)\", names) is not None:              #Corte Aqui  \n",
    "                    start=1;\n",
    "                    skip=1;\n",
    "                    continue \n",
    "                if re.match(\"[\\s\\S]*(VXBSkip)\", names) is not None:              #Corte Aqui  \n",
    "                    start=0;\n",
    "                    ignore=1\n",
    "                    break \n",
    "                if re.match(r'^\\s*$', names):\n",
    "                    continue\n",
    "                if(start==1):\n",
    "                    categoriaDespesa=names;\n",
    "                    start=2;\n",
    "                    continue            \n",
    "                if(start==2):   \n",
    "                    cnpj=names;\n",
    "                    start=3\n",
    "                    continue\n",
    "                if(start==3):   \n",
    "                    LugarDespesa=names;\n",
    "                    start=4\n",
    "                    continue    \n",
    "                    #f = csv.writer(open(('Dados'+nomeVereador+'.csv'), 'w'))\n",
    "                    #f.writerow(['Vereador','Tipo_de_Gasto','Nome_Da_Empresa','CNPJ','Valor','Mes/Ano'])\n",
    "                print(nomeVereador+\", \"+mes+\"/\"+ano)\n",
    "                #print(nomeVereador+\", \"+categoriaDespesa+\", \"+LugarDespesa+\", \"+cnpj+\", \"+names+\", \"+mes+\"/\"+ano)\n",
    "                if(start>=4):\n",
    "                    #Codigo para vereador \n",
    "                    try:\n",
    "                        t = open(('Dados'+nomeVereador+'.csv'), 'a')\n",
    "                        g = csv.writer(t)\n",
    "                    except:\n",
    "                            t = open(('Dados'+nomeVereador+'.csv'), 'w')\n",
    "                            g = csv.writer(t)\n",
    "                    g.writerow(['Vereador','Tipo_de_Gasto','Nome_Da_Empresa','CNPJ','Valor','Mes/Ano'])\n",
    "                    f.writerow([nomeVereador,categoriaDespesa,LugarDespesa,cnpj,names,(mes+\"/\"+ano)])    \n",
    "                    g.writerow([nomeVereador,categoriaDespesa,LugarDespesa,cnpj,names,(mes+\"/\"+ano)]) \n",
    "                    t.close()\n",
    "                    content={}\n",
    "                    content['Vereador'] = nomeVereador\n",
    "                    content['Tipo_de_Gasto'] = categoriaDespesa\n",
    "                    content['Nome_Da_Empresa'] = LugarDespesa\n",
    "                    content['CNPJ'] = cnpj\n",
    "                    content['Valor'] = names\n",
    "                    content['Mes/Ano'] = (mes+\"/\"+ano)\n",
    "                    jsondata.append(content)\n",
    "                    start=2;\n",
    "                start+=1\n",
    "    #Ainda dentro do for de mes\n",
    "    with open(jsonFilePath, 'w') as outfile:\n",
    "        json.dump(jsondata, outfile)"
   ]
  },
  {
   "cell_type": "code",
   "execution_count": null,
   "metadata": {},
   "outputs": [],
   "source": [
    "# Rode esse comando para saber onde esta o arquivo python\n",
    "os.getcwd()"
   ]
  },
  {
   "cell_type": "code",
   "execution_count": null,
   "metadata": {},
   "outputs": [],
   "source": [
    "# ATENÇÃO\n",
    "# Use este recurso se precisar alterar a pasta que o notebook está rodando\n",
    "os.chdir('d:\\\\Users\\\\Rafael\\\\Documents\\\\OSB\\\\4-EXTRACAO DE DADOS\\\\SCRIPTS')"
   ]
  },
  {
   "cell_type": "markdown",
   "metadata": {},
   "source": [
    "## 2 - Abrindo arquivos e consolidadndo em somente UM\n",
    "\n",
    "Agora nesta etapa iremos abrir todos os CSV resultantes da coleta e iremos concatenar todos eles em um arquivo único CSV!"
   ]
  },
  {
   "cell_type": "code",
   "execution_count": null,
   "metadata": {},
   "outputs": [],
   "source": [
    "# Abrindo todos os CSV\n",
    "tipo_arquivo = 'csv'\n",
    "todos_csv = [i for i in glob.glob('*.{}'.format(tipo_arquivo))]"
   ]
  },
  {
   "cell_type": "code",
   "execution_count": null,
   "metadata": {},
   "outputs": [],
   "source": [
    "# Combinando todos arquivos csv em um DataFrame\n",
    "combinado_csv = pd.concat([pd.read_csv(f, encoding='latin-1') for f in todos_csv ])"
   ]
  },
  {
   "cell_type": "code",
   "execution_count": null,
   "metadata": {},
   "outputs": [],
   "source": [
    "# Exportando o DF para um arquivo CSV. É importante fazer isso direto para evitar erros nas etapas seguintes\n",
    "combinado_csv.to_csv( \"gastos_vereadores_2022_05_a_12.csv\", index=False, encoding='latin-1')"
   ]
  },
  {
   "cell_type": "markdown",
   "metadata": {},
   "source": [
    "## 3 - Abrindo o arquivo CSV consolidado para fazer tratamento final\n",
    "\n",
    "Nesta etapa iremos remover as linhas em branco entre os dados!"
   ]
  },
  {
   "cell_type": "code",
   "execution_count": null,
   "metadata": {},
   "outputs": [],
   "source": [
    "df_vereadores = pd.read_csv('gastos_vereadores_2022_05_a_12.csv', encoding='latin-1')"
   ]
  },
  {
   "cell_type": "code",
   "execution_count": null,
   "metadata": {},
   "outputs": [],
   "source": [
    "df_vereadores.tail()"
   ]
  },
  {
   "cell_type": "markdown",
   "metadata": {},
   "source": [
    "## 4 - Limpar a tabela"
   ]
  },
  {
   "cell_type": "code",
   "execution_count": null,
   "metadata": {},
   "outputs": [],
   "source": [
    "# Usando maneira mais sofisticada : List Comprehension\n",
    "indices=[x for x in df_vereadores.loc[df_vereadores['Vereador'] == 'Vereador'].index ]\n",
    "df_vereadores_final = df_vereadores.drop(indices)\n",
    "\n",
    "\n",
    "# Ou podemos fazer assim também\n",
    "'''\n",
    "df_remove = df_adilson.loc[ df_adilson['Vereador'] == 'Vereador']  \n",
    "df_final_adilson = df_adilson.drop(df_remove.index)\n",
    "'''"
   ]
  },
  {
   "cell_type": "code",
   "execution_count": null,
   "metadata": {},
   "outputs": [],
   "source": [
    "# Verificando se processo removeu as linhas em branco\n",
    "df_vereadores_final.shape"
   ]
  },
  {
   "cell_type": "markdown",
   "metadata": {},
   "source": [
    "Para garantir que está tudo certo, vamos checar o último vereador na tabela (Fernando Holiday).  \n",
    "Fiz um slice e verifiquei que os dados do site estão congruentes com os dados obtidos aqui!  \n",
    "Veja abaixo os dados e compare com o site!"
   ]
  },
  {
   "cell_type": "code",
   "execution_count": null,
   "metadata": {},
   "outputs": [],
   "source": [
    "# Fazendo uma validação para confirmar\n",
    "\n",
    "df_vereadores_final_ver = df_vereadores_final[df_vereadores_final['Vereador'].str.contains('ELAINE DO QUILOMBO PERIFÉRICO')]\n",
    "df_vereadores_final_ver.tail(7)"
   ]
  },
  {
   "cell_type": "code",
   "execution_count": null,
   "metadata": {},
   "outputs": [],
   "source": [
    "df_vereadores_final_ver.info()"
   ]
  },
  {
   "cell_type": "markdown",
   "metadata": {},
   "source": [
    "# Exportando os dados para Excel"
   ]
  },
  {
   "cell_type": "code",
   "execution_count": null,
   "metadata": {},
   "outputs": [],
   "source": [
    "# salvando o DF para um arquivo excel\n",
    "df_vereadores_final.to_excel( \"gastos_vereadores_2022_05_a_12.xlsx\", index=False, encoding='utf-8-sig')"
   ]
  },
  {
   "cell_type": "markdown",
   "metadata": {},
   "source": [
    "# Fontes:\n",
    "\n",
    "\n",
    "https://www.freecodecamp.org/news/how-to-combine-multiple-csv-files-with-8-lines-of-code-265183e0854/  \n",
    "https://stackoverflow.com/questions/20906474/import-multiple-csv-files-into-pandas-and-concatenate-into-one-dataframe  \n",
    "https://pt.stackoverflow.com/questions/385478/remover-linhas-de-um-dataframe-que-atendem-a-certa-condi%C3%A7%C3%A3o\n",
    "\n"
   ]
  }
 ],
 "metadata": {
  "kernelspec": {
   "display_name": "base",
   "language": "python",
   "name": "python3"
  },
  "language_info": {
   "codemirror_mode": {
    "name": "ipython",
    "version": 3
   },
   "file_extension": ".py",
   "mimetype": "text/x-python",
   "name": "python",
   "nbconvert_exporter": "python",
   "pygments_lexer": "ipython3",
   "version": "3.9.13 (main, Aug 25 2022, 23:51:50) [MSC v.1916 64 bit (AMD64)]"
  },
  "vscode": {
   "interpreter": {
    "hash": "7f16b9a2c2c40f30a013d980a06839a9c201d67fea27075e20de00a7b369a82a"
   }
  }
 },
 "nbformat": 4,
 "nbformat_minor": 4
}
